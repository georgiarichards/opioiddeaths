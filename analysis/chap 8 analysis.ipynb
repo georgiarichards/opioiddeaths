{
 "cells": [
  {
   "cell_type": "markdown",
   "metadata": {},
   "source": [
    "# Chapter 8 analysis: opioid-related PFD reports "
   ]
  },
  {
   "cell_type": "code",
   "execution_count": 1,
   "metadata": {},
   "outputs": [],
   "source": [
    "# import libraries required for analysis \n",
    "import numpy as np \n",
    "import pandas as pd\n",
    "from pylab import savefig\n",
    "import seaborn as sns\n",
    "import matplotlib.pyplot as plt\n",
    "%matplotlib inline"
   ]
  },
  {
   "cell_type": "code",
   "execution_count": 2,
   "metadata": {},
   "outputs": [],
   "source": [
    "# import data \n",
    "df1 = pd.read_csv(\"chap8.csv\",thousands=',')"
   ]
  },
  {
   "cell_type": "code",
   "execution_count": 3,
   "metadata": {},
   "outputs": [
    {
     "data": {
      "text/html": [
       "<div>\n",
       "<style scoped>\n",
       "    .dataframe tbody tr th:only-of-type {\n",
       "        vertical-align: middle;\n",
       "    }\n",
       "\n",
       "    .dataframe tbody tr th {\n",
       "        vertical-align: top;\n",
       "    }\n",
       "\n",
       "    .dataframe thead th {\n",
       "        text-align: right;\n",
       "    }\n",
       "</style>\n",
       "<table border=\"1\" class=\"dataframe\">\n",
       "  <thead>\n",
       "    <tr style=\"text-align: right;\">\n",
       "      <th></th>\n",
       "      <th>ref</th>\n",
       "      <th>date_of_report</th>\n",
       "      <th>coroner_name</th>\n",
       "      <th>coroner_area</th>\n",
       "      <th>category</th>\n",
       "      <th>this_report_is_being_sent_to</th>\n",
       "      <th>url</th>\n",
       "      <th>no_people</th>\n",
       "      <th>age</th>\n",
       "      <th>sex</th>\n",
       "    </tr>\n",
       "  </thead>\n",
       "  <tbody>\n",
       "    <tr>\n",
       "      <th>0</th>\n",
       "      <td>2013-0248</td>\n",
       "      <td>3-Oct-13</td>\n",
       "      <td>Edward Thomas</td>\n",
       "      <td>Hertfordshire</td>\n",
       "      <td>Hospital Death</td>\n",
       "      <td>NaN</td>\n",
       "      <td>https://www.judiciary.uk/publications/kubilay-...</td>\n",
       "      <td>1</td>\n",
       "      <td>NaN</td>\n",
       "      <td>0</td>\n",
       "    </tr>\n",
       "    <tr>\n",
       "      <th>1</th>\n",
       "      <td>2013-0239A</td>\n",
       "      <td>14-Oct-13</td>\n",
       "      <td>Andre Rebello</td>\n",
       "      <td>Liverpool</td>\n",
       "      <td>Hospital Death</td>\n",
       "      <td>NaN</td>\n",
       "      <td>https://www.judiciary.uk/publications/shokri-g...</td>\n",
       "      <td>1</td>\n",
       "      <td>34.0</td>\n",
       "      <td>0</td>\n",
       "    </tr>\n",
       "    <tr>\n",
       "      <th>2</th>\n",
       "      <td>2013-0289</td>\n",
       "      <td>1-Nov-13</td>\n",
       "      <td>Nadia Persuad</td>\n",
       "      <td>London</td>\n",
       "      <td>Community Healthcare and Emergency Services Re...</td>\n",
       "      <td>NaN</td>\n",
       "      <td>https://www.judiciary.uk/publications/manning-...</td>\n",
       "      <td>1</td>\n",
       "      <td>49.0</td>\n",
       "      <td>1</td>\n",
       "    </tr>\n",
       "    <tr>\n",
       "      <th>3</th>\n",
       "      <td>2013-0307</td>\n",
       "      <td>11-Dec-13</td>\n",
       "      <td>Ian Smith</td>\n",
       "      <td>Cumbria (South &amp; East)</td>\n",
       "      <td>Other related deaths</td>\n",
       "      <td>NaN</td>\n",
       "      <td>https://www.judiciary.uk/publications/damion-s...</td>\n",
       "      <td>1</td>\n",
       "      <td>42.0</td>\n",
       "      <td>0</td>\n",
       "    </tr>\n",
       "    <tr>\n",
       "      <th>4</th>\n",
       "      <td>2014-0011</td>\n",
       "      <td>10-Jan-14</td>\n",
       "      <td>Margaret Jones</td>\n",
       "      <td>Staffordshire South</td>\n",
       "      <td>Community health care and emergency services r...</td>\n",
       "      <td>NaN</td>\n",
       "      <td>https://www.judiciary.uk/publications/pauline-...</td>\n",
       "      <td>1</td>\n",
       "      <td>42.0</td>\n",
       "      <td>1</td>\n",
       "    </tr>\n",
       "  </tbody>\n",
       "</table>\n",
       "</div>"
      ],
      "text/plain": [
       "          ref date_of_report    coroner_name            coroner_area  \\\n",
       "0   2013-0248       3-Oct-13   Edward Thomas           Hertfordshire   \n",
       "1  2013-0239A      14-Oct-13   Andre Rebello               Liverpool   \n",
       "2   2013-0289       1-Nov-13   Nadia Persuad                  London   \n",
       "3   2013-0307      11-Dec-13       Ian Smith  Cumbria (South & East)   \n",
       "4   2014-0011      10-Jan-14  Margaret Jones     Staffordshire South   \n",
       "\n",
       "                                            category  \\\n",
       "0                                     Hospital Death   \n",
       "1                                     Hospital Death   \n",
       "2  Community Healthcare and Emergency Services Re...   \n",
       "3                               Other related deaths   \n",
       "4  Community health care and emergency services r...   \n",
       "\n",
       "  this_report_is_being_sent_to  \\\n",
       "0                          NaN   \n",
       "1                          NaN   \n",
       "2                          NaN   \n",
       "3                          NaN   \n",
       "4                          NaN   \n",
       "\n",
       "                                                 url  no_people   age  sex  \n",
       "0  https://www.judiciary.uk/publications/kubilay-...          1   NaN    0  \n",
       "1  https://www.judiciary.uk/publications/shokri-g...          1  34.0    0  \n",
       "2  https://www.judiciary.uk/publications/manning-...          1  49.0    1  \n",
       "3  https://www.judiciary.uk/publications/damion-s...          1  42.0    0  \n",
       "4  https://www.judiciary.uk/publications/pauline-...          1  42.0    1  "
      ]
     },
     "execution_count": 3,
     "metadata": {},
     "output_type": "execute_result"
    }
   ],
   "source": [
    "df1.head()"
   ]
  },
  {
   "cell_type": "code",
   "execution_count": 4,
   "metadata": {},
   "outputs": [
    {
     "data": {
      "text/html": [
       "<div>\n",
       "<style scoped>\n",
       "    .dataframe tbody tr th:only-of-type {\n",
       "        vertical-align: middle;\n",
       "    }\n",
       "\n",
       "    .dataframe tbody tr th {\n",
       "        vertical-align: top;\n",
       "    }\n",
       "\n",
       "    .dataframe thead th {\n",
       "        text-align: right;\n",
       "    }\n",
       "</style>\n",
       "<table border=\"1\" class=\"dataframe\">\n",
       "  <thead>\n",
       "    <tr style=\"text-align: right;\">\n",
       "      <th></th>\n",
       "      <th>no_people</th>\n",
       "      <th>age</th>\n",
       "      <th>sex</th>\n",
       "    </tr>\n",
       "  </thead>\n",
       "  <tbody>\n",
       "    <tr>\n",
       "      <th>count</th>\n",
       "      <td>176.000000</td>\n",
       "      <td>110.000000</td>\n",
       "      <td>176.000000</td>\n",
       "    </tr>\n",
       "    <tr>\n",
       "      <th>mean</th>\n",
       "      <td>1.005682</td>\n",
       "      <td>42.636391</td>\n",
       "      <td>0.335227</td>\n",
       "    </tr>\n",
       "    <tr>\n",
       "      <th>std</th>\n",
       "      <td>0.075378</td>\n",
       "      <td>15.765832</td>\n",
       "      <td>0.473417</td>\n",
       "    </tr>\n",
       "    <tr>\n",
       "      <th>min</th>\n",
       "      <td>1.000000</td>\n",
       "      <td>0.003000</td>\n",
       "      <td>0.000000</td>\n",
       "    </tr>\n",
       "    <tr>\n",
       "      <th>25%</th>\n",
       "      <td>1.000000</td>\n",
       "      <td>32.250000</td>\n",
       "      <td>0.000000</td>\n",
       "    </tr>\n",
       "    <tr>\n",
       "      <th>50%</th>\n",
       "      <td>1.000000</td>\n",
       "      <td>41.500000</td>\n",
       "      <td>0.000000</td>\n",
       "    </tr>\n",
       "    <tr>\n",
       "      <th>75%</th>\n",
       "      <td>1.000000</td>\n",
       "      <td>50.750000</td>\n",
       "      <td>1.000000</td>\n",
       "    </tr>\n",
       "    <tr>\n",
       "      <th>max</th>\n",
       "      <td>2.000000</td>\n",
       "      <td>94.000000</td>\n",
       "      <td>1.000000</td>\n",
       "    </tr>\n",
       "  </tbody>\n",
       "</table>\n",
       "</div>"
      ],
      "text/plain": [
       "        no_people         age         sex\n",
       "count  176.000000  110.000000  176.000000\n",
       "mean     1.005682   42.636391    0.335227\n",
       "std      0.075378   15.765832    0.473417\n",
       "min      1.000000    0.003000    0.000000\n",
       "25%      1.000000   32.250000    0.000000\n",
       "50%      1.000000   41.500000    0.000000\n",
       "75%      1.000000   50.750000    1.000000\n",
       "max      2.000000   94.000000    1.000000"
      ]
     },
     "execution_count": 4,
     "metadata": {},
     "output_type": "execute_result"
    }
   ],
   "source": [
    "# to get descriptive stats for age\n",
    "df1.describe()"
   ]
  },
  {
   "cell_type": "code",
   "execution_count": 2,
   "metadata": {},
   "outputs": [
    {
     "data": {
      "text/html": [
       "<div>\n",
       "<style scoped>\n",
       "    .dataframe tbody tr th:only-of-type {\n",
       "        vertical-align: middle;\n",
       "    }\n",
       "\n",
       "    .dataframe tbody tr th {\n",
       "        vertical-align: top;\n",
       "    }\n",
       "\n",
       "    .dataframe thead th {\n",
       "        text-align: right;\n",
       "    }\n",
       "</style>\n",
       "<table border=\"1\" class=\"dataframe\">\n",
       "  <thead>\n",
       "    <tr style=\"text-align: right;\">\n",
       "      <th></th>\n",
       "      <th>year</th>\n",
       "      <th>total_PFDs</th>\n",
       "      <th>opioid</th>\n",
       "      <th>rate</th>\n",
       "      <th>percent</th>\n",
       "    </tr>\n",
       "  </thead>\n",
       "  <tbody>\n",
       "    <tr>\n",
       "      <th>0</th>\n",
       "      <td>2013</td>\n",
       "      <td>173</td>\n",
       "      <td>4</td>\n",
       "      <td>0.0231</td>\n",
       "      <td>2.3</td>\n",
       "    </tr>\n",
       "    <tr>\n",
       "      <th>1</th>\n",
       "      <td>2014</td>\n",
       "      <td>555</td>\n",
       "      <td>27</td>\n",
       "      <td>0.0486</td>\n",
       "      <td>4.9</td>\n",
       "    </tr>\n",
       "    <tr>\n",
       "      <th>2</th>\n",
       "      <td>2015</td>\n",
       "      <td>477</td>\n",
       "      <td>23</td>\n",
       "      <td>0.0482</td>\n",
       "      <td>4.8</td>\n",
       "    </tr>\n",
       "    <tr>\n",
       "      <th>3</th>\n",
       "      <td>2016</td>\n",
       "      <td>470</td>\n",
       "      <td>16</td>\n",
       "      <td>0.0340</td>\n",
       "      <td>3.4</td>\n",
       "    </tr>\n",
       "    <tr>\n",
       "      <th>4</th>\n",
       "      <td>2017</td>\n",
       "      <td>435</td>\n",
       "      <td>30</td>\n",
       "      <td>0.0690</td>\n",
       "      <td>6.9</td>\n",
       "    </tr>\n",
       "  </tbody>\n",
       "</table>\n",
       "</div>"
      ],
      "text/plain": [
       "   year  total_PFDs  opioid    rate  percent\n",
       "0  2013         173       4  0.0231      2.3\n",
       "1  2014         555      27  0.0486      4.9\n",
       "2  2015         477      23  0.0482      4.8\n",
       "3  2016         470      16  0.0340      3.4\n",
       "4  2017         435      30  0.0690      6.9"
      ]
     },
     "execution_count": 2,
     "metadata": {},
     "output_type": "execute_result"
    }
   ],
   "source": [
    "# import data for graph overtime\n",
    "df2 = pd.read_csv(\"year.csv\",thousands=',')\n",
    "df2.head()"
   ]
  },
  {
   "cell_type": "code",
   "execution_count": 3,
   "metadata": {},
   "outputs": [
    {
     "data": {
      "text/html": [
       "<div>\n",
       "<style scoped>\n",
       "    .dataframe tbody tr th:only-of-type {\n",
       "        vertical-align: middle;\n",
       "    }\n",
       "\n",
       "    .dataframe tbody tr th {\n",
       "        vertical-align: top;\n",
       "    }\n",
       "\n",
       "    .dataframe thead th {\n",
       "        text-align: right;\n",
       "    }\n",
       "</style>\n",
       "<table border=\"1\" class=\"dataframe\">\n",
       "  <thead>\n",
       "    <tr style=\"text-align: right;\">\n",
       "      <th></th>\n",
       "      <th>year</th>\n",
       "      <th>total_PFDs</th>\n",
       "      <th>opioid</th>\n",
       "      <th>rate</th>\n",
       "      <th>percent</th>\n",
       "    </tr>\n",
       "  </thead>\n",
       "  <tbody>\n",
       "    <tr>\n",
       "      <th>count</th>\n",
       "      <td>7.000000</td>\n",
       "      <td>7.000000</td>\n",
       "      <td>7.000000</td>\n",
       "      <td>7.000000</td>\n",
       "      <td>7.000000</td>\n",
       "    </tr>\n",
       "    <tr>\n",
       "      <th>mean</th>\n",
       "      <td>2016.000000</td>\n",
       "      <td>433.857143</td>\n",
       "      <td>25.142857</td>\n",
       "      <td>0.055214</td>\n",
       "      <td>5.528571</td>\n",
       "    </tr>\n",
       "    <tr>\n",
       "      <th>std</th>\n",
       "      <td>2.160247</td>\n",
       "      <td>124.330780</td>\n",
       "      <td>12.535663</td>\n",
       "      <td>0.023041</td>\n",
       "      <td>2.313521</td>\n",
       "    </tr>\n",
       "    <tr>\n",
       "      <th>min</th>\n",
       "      <td>2013.000000</td>\n",
       "      <td>173.000000</td>\n",
       "      <td>4.000000</td>\n",
       "      <td>0.023100</td>\n",
       "      <td>2.300000</td>\n",
       "    </tr>\n",
       "    <tr>\n",
       "      <th>25%</th>\n",
       "      <td>2014.500000</td>\n",
       "      <td>424.000000</td>\n",
       "      <td>19.500000</td>\n",
       "      <td>0.041100</td>\n",
       "      <td>4.100000</td>\n",
       "    </tr>\n",
       "    <tr>\n",
       "      <th>50%</th>\n",
       "      <td>2016.000000</td>\n",
       "      <td>470.000000</td>\n",
       "      <td>27.000000</td>\n",
       "      <td>0.048600</td>\n",
       "      <td>4.900000</td>\n",
       "    </tr>\n",
       "    <tr>\n",
       "      <th>75%</th>\n",
       "      <td>2017.500000</td>\n",
       "      <td>495.500000</td>\n",
       "      <td>31.500000</td>\n",
       "      <td>0.074450</td>\n",
       "      <td>7.450000</td>\n",
       "    </tr>\n",
       "    <tr>\n",
       "      <th>max</th>\n",
       "      <td>2019.000000</td>\n",
       "      <td>555.000000</td>\n",
       "      <td>43.000000</td>\n",
       "      <td>0.083700</td>\n",
       "      <td>8.400000</td>\n",
       "    </tr>\n",
       "  </tbody>\n",
       "</table>\n",
       "</div>"
      ],
      "text/plain": [
       "              year  total_PFDs     opioid      rate   percent\n",
       "count     7.000000    7.000000   7.000000  7.000000  7.000000\n",
       "mean   2016.000000  433.857143  25.142857  0.055214  5.528571\n",
       "std       2.160247  124.330780  12.535663  0.023041  2.313521\n",
       "min    2013.000000  173.000000   4.000000  0.023100  2.300000\n",
       "25%    2014.500000  424.000000  19.500000  0.041100  4.100000\n",
       "50%    2016.000000  470.000000  27.000000  0.048600  4.900000\n",
       "75%    2017.500000  495.500000  31.500000  0.074450  7.450000\n",
       "max    2019.000000  555.000000  43.000000  0.083700  8.400000"
      ]
     },
     "execution_count": 3,
     "metadata": {},
     "output_type": "execute_result"
    }
   ],
   "source": [
    "df2.describe()"
   ]
  },
  {
   "cell_type": "code",
   "execution_count": 10,
   "metadata": {},
   "outputs": [
    {
     "data": {
      "image/png": "[encoded data removed]",
      "text/plain": [
       "<Figure size 864x576 with 1 Axes>"
      ]
     },
     "metadata": {
      "needs_background": "light"
     },
     "output_type": "display_data"
    }
   ],
   "source": [
    "# plotting the number of opioid-related cases overtime using seaborn\n",
    "\n",
    "plt.figure(figsize=(12,8))\n",
    "ax = sns.barplot(data=df2, x=\"year\", y=\"opioid\", color=\"navy\")\n",
    "plt.xlabel(' ')\n",
    "plt.ylabel('Number of opioid-related PFDs', fontsize=15)\n",
    "\n",
    "plt.savefig(\"bar_opioids.png\", dpi=600)"
   ]
  },
  {
   "cell_type": "code",
   "execution_count": 29,
   "metadata": {},
   "outputs": [
    {
     "data": {
      "image/png": "[encoded data removed]",
      "text/plain": [
       "<Figure size 864x576 with 1 Axes>"
      ]
     },
     "metadata": {
      "needs_background": "light"
     },
     "output_type": "display_data"
    }
   ],
   "source": [
    "# plotting the rate of opioid-related cases overtime using seaborn, line plot \n",
    "\n",
    "plt.figure(figsize=(12,8))\n",
    "ax = sns.lineplot(data=df2, x=\"year\", y=\"percent\", marker='o', dashes=False)\n",
    "plt.xlabel(' ')\n",
    "plt.ylabel('Rate (%) of opioid-related PFDs', fontsize=15)\n",
    "plt.ylim(0, 9)\n",
    "\n",
    "plt.savefig(\"line_opioids.png\", dpi=600)"
   ]
  },
  {
   "cell_type": "code",
   "execution_count": 30,
   "metadata": {},
   "outputs": [
    {
     "data": {
      "image/png": "[encoded data removed]",
      "text/plain": [
       "<Figure size 864x576 with 1 Axes>"
      ]
     },
     "metadata": {
      "needs_background": "light"
     },
     "output_type": "display_data"
    }
   ],
   "source": [
    "# plotting the rate of opioid-related cases overtime using seaborn, bar plot\n",
    "\n",
    "plt.figure(figsize=(12,8))\n",
    "ax = sns.barplot(data=df2, x=\"year\", y=\"percent\", color=\"navy\")\n",
    "plt.xlabel(' ')\n",
    "plt.ylabel('Rate (%) of opioid-related PFDs', fontsize=15)\n",
    "\n",
    "plt.savefig(\"bar_opioid_rate.png\", dpi=600)"
   ]
  },
  {
   "cell_type": "code",
   "execution_count": 2,
   "metadata": {},
   "outputs": [
    {
     "data": {
      "text/html": [
       "<div>\n",
       "<style scoped>\n",
       "    .dataframe tbody tr th:only-of-type {\n",
       "        vertical-align: middle;\n",
       "    }\n",
       "\n",
       "    .dataframe tbody tr th {\n",
       "        vertical-align: top;\n",
       "    }\n",
       "\n",
       "    .dataframe thead th {\n",
       "        text-align: right;\n",
       "    }\n",
       "</style>\n",
       "<table border=\"1\" class=\"dataframe\">\n",
       "  <thead>\n",
       "    <tr style=\"text-align: right;\">\n",
       "      <th></th>\n",
       "      <th>age</th>\n",
       "      <th>count</th>\n",
       "      <th>percent</th>\n",
       "    </tr>\n",
       "  </thead>\n",
       "  <tbody>\n",
       "    <tr>\n",
       "      <th>0</th>\n",
       "      <td>under 20</td>\n",
       "      <td>4</td>\n",
       "      <td>3.6</td>\n",
       "    </tr>\n",
       "    <tr>\n",
       "      <th>1</th>\n",
       "      <td>20-29</td>\n",
       "      <td>16</td>\n",
       "      <td>14.5</td>\n",
       "    </tr>\n",
       "    <tr>\n",
       "      <th>2</th>\n",
       "      <td>30-39</td>\n",
       "      <td>32</td>\n",
       "      <td>29.1</td>\n",
       "    </tr>\n",
       "    <tr>\n",
       "      <th>3</th>\n",
       "      <td>40-49</td>\n",
       "      <td>27</td>\n",
       "      <td>24.5</td>\n",
       "    </tr>\n",
       "    <tr>\n",
       "      <th>4</th>\n",
       "      <td>50-69</td>\n",
       "      <td>21</td>\n",
       "      <td>19.1</td>\n",
       "    </tr>\n",
       "  </tbody>\n",
       "</table>\n",
       "</div>"
      ],
      "text/plain": [
       "        age  count  percent\n",
       "0  under 20      4      3.6\n",
       "1     20-29     16     14.5\n",
       "2     30-39     32     29.1\n",
       "3     40-49     27     24.5\n",
       "4     50-69     21     19.1"
      ]
     },
     "execution_count": 2,
     "metadata": {},
     "output_type": "execute_result"
    }
   ],
   "source": [
    "df3 = pd.read_csv(\"age.csv\",thousands=',')\n",
    "df3.head()"
   ]
  },
  {
   "cell_type": "code",
   "execution_count": 3,
   "metadata": {},
   "outputs": [
    {
     "data": {
      "image/png": "[encoded data removed]",
      "text/plain": [
       "<Figure size 864x576 with 1 Axes>"
      ]
     },
     "metadata": {
      "needs_background": "light"
     },
     "output_type": "display_data"
    }
   ],
   "source": [
    "# frequency plot of age in 110 cases reporting data, percent \n",
    "\n",
    "plt.figure(figsize=(12,8))\n",
    "ax = sns.barplot(data=df3, x=\"age\", y=\"percent\", color=\"navy\")\n",
    "plt.xlabel('Age groups')\n",
    "plt.ylabel('Frequnency of opioid-related deaths', fontsize=15)\n",
    "\n",
    "plt.savefig(\"bar_opioid_age.png\", dpi=600)\n"
   ]
  },
  {
   "cell_type": "code",
   "execution_count": 4,
   "metadata": {},
   "outputs": [
    {
     "data": {
      "text/plain": [
       "Text(0, 0.5, 'Number of opioid-related deaths by age')"
      ]
     },
     "execution_count": 4,
     "metadata": {},
     "output_type": "execute_result"
    },
    {
     "data": {
      "image/png": "[encoded data removed]",
      "text/plain": [
       "<Figure size 864x576 with 1 Axes>"
      ]
     },
     "metadata": {
      "needs_background": "light"
     },
     "output_type": "display_data"
    }
   ],
   "source": [
    "# frequency plot of age in 110 cases reporting data, count \n",
    "\n",
    "plt.figure(figsize=(12,8))\n",
    "ax = sns.barplot(data=df3, x=\"age\", y=\"count\", color=\"navy\")\n",
    "plt.xlabel(' ')\n",
    "plt.ylabel('Number of opioid-related deaths by age', fontsize=15)\n",
    "\n"
   ]
  },
  {
   "cell_type": "code",
   "execution_count": null,
   "metadata": {},
   "outputs": [],
   "source": []
  }
 ],
 "metadata": {
  "kernelspec": {
   "display_name": "Python 3",
   "language": "python",
   "name": "python3"
  },
  "language_info": {
   "codemirror_mode": {
    "name": "ipython",
    "version": 3
   },
   "file_extension": ".py",
   "mimetype": "text/x-python",
   "name": "python",
   "nbconvert_exporter": "python",
   "pygments_lexer": "ipython3",
   "version": "3.7.1"
  }
 },
 "nbformat": 4,
 "nbformat_minor": 2
}
